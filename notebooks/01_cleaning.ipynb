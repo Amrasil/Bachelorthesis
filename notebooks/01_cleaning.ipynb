{
 "cells": [
  {
   "cell_type": "code",
   "execution_count": 1,
   "id": "68443f72-e67a-47f9-8765-e98fca46e8d1",
   "metadata": {},
   "outputs": [],
   "source": [
    "import gc\n",
    "import os\n",
    "import logging\n",
    "import csv\n",
    "import pandas as pd\n",
    "import numpy as np\n",
    "from pandas.core.interchange.dataframe_protocol import DataFrame"
   ]
  },
  {
   "cell_type": "code",
   "execution_count": 2,
   "id": "a7d20353-ceee-4581-8c76-cec0b252a90e",
   "metadata": {},
   "outputs": [],
   "source": [
    "def step(in_path, out_path, func):\n",
    "    print(f\"\\n➡️  Running: {func.__name__} ...\")\n",
    "    \n",
    "    df = pd.read_parquet(in_path)\n",
    "    df = func(df)\n",
    "    df.to_parquet(out_path, index=False)\n",
    "    \n",
    "    del df\n",
    "    gc.collect()\n",
    "    print(f\"✅ Saved to: {out_path}\")"
   ]
  },
  {
   "cell_type": "code",
   "execution_count": 3,
   "id": "24a1e836-fd53-4c24-872b-6ba7ad8e7369",
   "metadata": {},
   "outputs": [],
   "source": [
    "def initial_checks(df: pd.DataFrame):\n",
    "    print(df.shape)\n",
    "    # remove leading spaces in column definitions\n",
    "    df.columns = [col[1:] if col.startswith(' ') else col for col in df.columns]\n",
    "    \n",
    "    # check for mixed data types in all columns\n",
    "    columns = df.columns\n",
    "    for c in columns:\n",
    "        unique_types = set(df[c].map(type))\n",
    "        assert len(unique_types) == 1, f\"Error: multiple data types detected in {c} \"\n",
    "    del columns\n",
    "    print(\"No mixed data in columns detected\")\n",
    "\n",
    "    # number of occurances for each Label\n",
    "    labels = df['Label'].unique()\n",
    "    data = []\n",
    "    total_count = df.shape[0]\n",
    "    for label in labels:\n",
    "        count = df[df['Label'] == label].shape[0]\n",
    "        data.append([label, count, round(count/total_count, 6)])\n",
    "    label_data = pd.DataFrame(data=np.array(data), columns=['Label', 'Number of instances', '% of total instances'])\n",
    "    print(label_data)\n",
    "    label_data.to_csv('../data/statistics/label_data_original.csv')\n",
    "    return df"
   ]
  },
  {
   "cell_type": "code",
   "execution_count": 4,
   "id": "1a803020-52f4-42f0-a803-db766dfa21da",
   "metadata": {
    "scrolled": true
   },
   "outputs": [
    {
     "name": "stdout",
     "output_type": "stream",
     "text": [
      "(2830743, 79)\n",
      "No mixed data in columns detected\n",
      "                         Label Number of instances % of total instances\n",
      "0                       BENIGN             2273097             0.803004\n",
      "1                         DDoS              128027             0.045227\n",
      "2                     PortScan              158930             0.056144\n",
      "3                          Bot                1966             0.000695\n",
      "4                 Infiltration                  36              1.3e-05\n",
      "5     Web Attack � Brute Force                1507             0.000532\n",
      "6             Web Attack � XSS                 652              0.00023\n",
      "7   Web Attack � Sql Injection                  21                7e-06\n",
      "8                  FTP-Patator                7938             0.002804\n",
      "9                  SSH-Patator                5897             0.002083\n",
      "10               DoS slowloris                5796             0.002048\n",
      "11            DoS Slowhttptest                5499             0.001943\n",
      "12                    DoS Hulk              231073              0.08163\n",
      "13               DoS GoldenEye               10293             0.003636\n",
      "14                  Heartbleed                  11                4e-06\n"
     ]
    },
    {
     "data": {
      "text/plain": [
       "34"
      ]
     },
     "execution_count": 4,
     "metadata": {},
     "output_type": "execute_result"
    }
   ],
   "source": [
    "#df_csv = pd.read_csv('../data/CICIDS2017_original.csv')\n",
    "df_csv_checks = initial_checks(pd.read_csv('../data/originals/CICIDS2017.csv'))\n",
    "# del df_csv\n",
    "df_csv_checks.to_parquet('../data/originals/CICIDS2017.parquet', index=False)\n",
    "del df_csv_checks\n",
    "gc.collect()"
   ]
  },
  {
   "cell_type": "code",
   "execution_count": 5,
   "id": "3a4794d0-5d98-4d2a-9d05-e6c78f1286e4",
   "metadata": {},
   "outputs": [],
   "source": [
    "df = pd.read_parquet('../data/originals/CICIDS2017.parquet')"
   ]
  },
  {
   "cell_type": "code",
   "execution_count": 6,
   "id": "6fc5d579-9a8d-4dba-806d-07071ea36a0d",
   "metadata": {},
   "outputs": [],
   "source": [
    "def drop_nan_columns(df: pd.DataFrame):\n",
    "    # Drop Columns with only NaN-Values\n",
    "    nan_columns = df.columns[df.isna().all()].to_list()\n",
    "    df = df.drop(columns = nan_columns)\n",
    "    print(f'Deleted  {len(nan_columns)} NaN Columns: {nan_columns}')\n",
    "    return df"
   ]
  },
  {
   "cell_type": "code",
   "execution_count": 7,
   "id": "c5de1cc5-f9de-4fec-83dd-0284fc706198",
   "metadata": {},
   "outputs": [
    {
     "name": "stdout",
     "output_type": "stream",
     "text": [
      "\n",
      "➡️  Running: drop_nan_columns ...\n",
      "Deleted  0 NaN Columns: []\n",
      "✅ Saved to: ../data/tmp/step_01.parquet\n"
     ]
    }
   ],
   "source": [
    "step('../data/originals/CICIDS2017.parquet','../data/tmp/step_01.parquet', drop_nan_columns)"
   ]
  },
  {
   "cell_type": "code",
   "execution_count": 8,
   "id": "7e505233-ec25-4f2f-bbde-7db66556b126",
   "metadata": {},
   "outputs": [],
   "source": [
    "def drop_single_value_columns(df: pd.DataFrame):\n",
    "    # Drop Columns containing the same value in each instance\n",
    "    single_value_columns = df.columns[df.nunique(dropna=False) <= 1].to_list()\n",
    "    df = df.drop(columns = single_value_columns)\n",
    "    print(f'Deleted  {len(single_value_columns)} single-value Columns: {single_value_columns}')\n",
    "    return df"
   ]
  },
  {
   "cell_type": "code",
   "execution_count": 9,
   "id": "69ccd85f-6ef2-4c24-aedc-a3e96cc0060e",
   "metadata": {},
   "outputs": [
    {
     "name": "stdout",
     "output_type": "stream",
     "text": [
      "\n",
      "➡️  Running: drop_single_value_columns ...\n",
      "Deleted  8 single-value Columns: ['Bwd PSH Flags', 'Bwd URG Flags', 'Fwd Avg Bytes/Bulk', 'Fwd Avg Packets/Bulk', 'Fwd Avg Bulk Rate', 'Bwd Avg Bytes/Bulk', 'Bwd Avg Packets/Bulk', 'Bwd Avg Bulk Rate']\n",
      "✅ Saved to: ../data/tmp/step_02.parquet\n"
     ]
    }
   ],
   "source": [
    "step('../data/tmp/step_01.parquet','../data/tmp/step_02.parquet', drop_single_value_columns)"
   ]
  },
  {
   "cell_type": "code",
   "execution_count": 10,
   "id": "e2c6f13a-836d-480c-855e-fab232c7a910",
   "metadata": {},
   "outputs": [],
   "source": [
    "def drop_duplicates(df: pd.DataFrame):\n",
    "    # Drop duplicate instances\n",
    "    count = df.duplicated(keep='first').sum()\n",
    "    df = df.drop_duplicates(keep='first')\n",
    "    print(f'Deleted  {count} duplicate instances')\n",
    "    return df"
   ]
  },
  {
   "cell_type": "code",
   "execution_count": 11,
   "id": "d112c70f-2bd8-4c66-a4ee-49c32f2ff4d5",
   "metadata": {},
   "outputs": [
    {
     "name": "stdout",
     "output_type": "stream",
     "text": [
      "\n",
      "➡️  Running: drop_duplicates ...\n",
      "Deleted  308381 duplicate instances\n",
      "✅ Saved to: ../data/tmp/step_03.parquet\n"
     ]
    }
   ],
   "source": [
    "step('../data/tmp/step_02.parquet','../data/tmp/step_03.parquet', drop_duplicates)"
   ]
  },
  {
   "cell_type": "code",
   "execution_count": 12,
   "id": "004f5fcd-8bce-47e8-b860-c51c837a2400",
   "metadata": {},
   "outputs": [],
   "source": [
    "def drop_infinity_instances(df: pd.DataFrame):\n",
    "    # Drop instances containing infinity values\n",
    "    mask = df.isin([np.inf, -np.inf]).any(axis=1)\n",
    "    count = mask.sum()\n",
    "    df = df[~mask]\n",
    "    print(f'Deleted  {count} instances with infinite values')\n",
    "    return df"
   ]
  },
  {
   "cell_type": "code",
   "execution_count": 13,
   "id": "f677a400-caab-47cd-8f9b-9500b6c64f9f",
   "metadata": {},
   "outputs": [
    {
     "name": "stdout",
     "output_type": "stream",
     "text": [
      "\n",
      "➡️  Running: drop_infinity_instances ...\n",
      "Deleted  1564 instances with infinite values\n",
      "✅ Saved to: ../data/tmp/step_04.parquet\n"
     ]
    }
   ],
   "source": [
    "step('../data/tmp/step_03.parquet','../data/tmp/step_04.parquet', drop_infinity_instances)"
   ]
  },
  {
   "cell_type": "code",
   "execution_count": 14,
   "id": "820253e7-0437-45fd-813c-0858c1c2b211",
   "metadata": {},
   "outputs": [],
   "source": [
    "def drop_nan_instances(df: pd.DataFrame):\n",
    "    # Drop instances containing NaN values\n",
    "    count = df.isna().any(axis=1).sum()\n",
    "    df = df.dropna()\n",
    "    print(f'Deleted  {count} instances with NaN values')\n",
    "    return df"
   ]
  },
  {
   "cell_type": "code",
   "execution_count": 15,
   "id": "200c3ac5-9d57-4385-9bd3-4ed114a88189",
   "metadata": {},
   "outputs": [
    {
     "name": "stdout",
     "output_type": "stream",
     "text": [
      "\n",
      "➡️  Running: drop_nan_instances ...\n",
      "Deleted  0 instances with NaN values\n",
      "✅ Saved to: ../data/tmp/step_05.parquet\n"
     ]
    }
   ],
   "source": [
    "step('../data/tmp/step_04.parquet','../data/tmp/step_05.parquet', drop_nan_instances)"
   ]
  },
  {
   "cell_type": "code",
   "execution_count": 16,
   "id": "d12ae466-d3c3-40fa-a308-10341d785c88",
   "metadata": {},
   "outputs": [],
   "source": [
    "def merge_labels(df: pd.DataFrame):\n",
    "    # reduce the number of unique labels by merging\n",
    "    new_labels = {\n",
    "        'BENIGN': 'BENIGN',\n",
    "        'DDoS': 'Dos/DDos',\n",
    "        'PortScan':'PortScan',\n",
    "        'Bot': 'Bot',\n",
    "        'Infiltration': 'Infiltration',\n",
    "        'Web Attack � Brute Force': 'Web Attack',\n",
    "        'Web Attack � XSS': 'Web Attack',\n",
    "        'Web Attack � Sql Injection': 'Web Attack',\n",
    "        'FTP-Patator': 'Brute Force',\n",
    "        'SSH-Patator': 'Brute Force',\n",
    "        'DoS slowloris': 'Dos/DDos',\n",
    "        'DoS Slowhttptest': 'Dos/DDos',\n",
    "        'DoS Hulk': 'Dos/DDos',\n",
    "        'DoS GoldenEye': 'Dos/DDos',\n",
    "        'Heartbleed':  'Heartbleed',\n",
    "    }\n",
    "    df['Label'] = df['Label'].map(new_labels)\n",
    "    print(df['Label'].unique())\n",
    "    return df"
   ]
  },
  {
   "cell_type": "code",
   "execution_count": 17,
   "id": "060ae96a-16ef-4b7d-b675-5a5865b12ad6",
   "metadata": {},
   "outputs": [
    {
     "name": "stdout",
     "output_type": "stream",
     "text": [
      "\n",
      "➡️  Running: merge_labels ...\n",
      "['BENIGN' 'Dos/DDos' 'PortScan' 'Bot' 'Infiltration' 'Web Attack'\n",
      " 'Brute Force' 'Heartbleed']\n",
      "✅ Saved to: ../data/tmp/step_06.parquet\n"
     ]
    }
   ],
   "source": [
    "step('../data/tmp/step_05.parquet','../data/tmp/step_06.parquet', merge_labels)"
   ]
  },
  {
   "cell_type": "code",
   "execution_count": 18,
   "id": "e51e87ba-adc8-4f3e-9d5b-1c407ecc2b54",
   "metadata": {},
   "outputs": [],
   "source": [
    "# remove unnecessary Feature 'Destination Port' and save cleaned DataFrame\n",
    "df = pd.read_parquet('../data/tmp/step_06.parquet')\n",
    "df = df.drop(columns='Destination Port')\n",
    "df.to_parquet('../data/CICIDS2017_cleaned.parquet', index=False)"
   ]
  },
  {
   "cell_type": "code",
   "execution_count": 19,
   "id": "72a5bf72-7b12-491c-a66d-847a31500ab5",
   "metadata": {},
   "outputs": [
    {
     "name": "stdout",
     "output_type": "stream",
     "text": [
      "['BENIGN' 'Dos/DDos' 'PortScan' 'Bot' 'Infiltration' 'Web Attack'\n",
      " 'Brute Force' 'Heartbleed']\n",
      "          Label Number of instances % of total instances\n",
      "0        BENIGN             2095057             0.831109\n",
      "1      Dos/DDos              321759             0.127642\n",
      "2      PortScan               90694             0.035978\n",
      "3           Bot                1948             0.000773\n",
      "4  Infiltration                  36              1.4e-05\n",
      "5    Web Attack                2143              0.00085\n",
      "6   Brute Force                9150              0.00363\n",
      "7    Heartbleed                  11                4e-06\n"
     ]
    }
   ],
   "source": [
    "# number of occurances for each Label for the cleaned DataFrame\n",
    "df = pd.read_parquet('../data/CICIDS2017_cleaned.parquet')\n",
    "labels = df['Label'].unique()\n",
    "print(labels)\n",
    "data = []\n",
    "total_count = df.shape[0]\n",
    "for label in labels:\n",
    "    count = df[df['Label'] == label].shape[0]\n",
    "    data.append([label, count, round(count/total_count, 6)])\n",
    "label_data = pd.DataFrame(data=np.array(data), columns=['Label', 'Number of instances', '% of total instances'])\n",
    "print(label_data)\n",
    "label_data.to_csv('../data/statistics/label_data_cleaned.csv')"
   ]
  }
 ],
 "metadata": {
  "kernelspec": {
   "display_name": "Python (cicids-cleaning)",
   "language": "python",
   "name": "cicids-cleaning"
  },
  "language_info": {
   "codemirror_mode": {
    "name": "ipython",
    "version": 3
   },
   "file_extension": ".py",
   "mimetype": "text/x-python",
   "name": "python",
   "nbconvert_exporter": "python",
   "pygments_lexer": "ipython3",
   "version": "3.10.12"
  }
 },
 "nbformat": 4,
 "nbformat_minor": 5
}
